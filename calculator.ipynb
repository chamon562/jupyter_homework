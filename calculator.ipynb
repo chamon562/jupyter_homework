{
 "cells": [
  {
   "cell_type": "code",
   "execution_count": 1,
   "metadata": {},
   "outputs": [
    {
     "name": "stdout",
     "output_type": "stream",
     "text": [
      "What operation would you like to do? (add, sub, mult, div)\n",
      "mult\n",
      "Your first number\n",
      "5\n",
      "Your second number\n",
      "5\n",
      "25\n"
     ]
    }
   ],
   "source": [
    "# define a calculator function\n",
    "def calculator():\n",
    "#     make input to ask user what operation and number to solve\n",
    "    calc = input('What operation would you like to do? (add, sub, mult, div)\\n')\n",
    "    num1 = input('Your first number\\n')\n",
    "    num2 = input('Your second number\\n')\n",
    "    if calc == 'add':\n",
    "        result = int(num1) + int(num2)\n",
    "    elif calc == 'sub':\n",
    "        result = int(num1) - int(num2)\n",
    "    elif calc == 'mult':\n",
    "        result = int(num1) * int(num2)\n",
    "    elif calc == 'div':\n",
    "        result = int(num1) / int(num2)\n",
    "    return result\n",
    "print(calculator())"
   ]
  }
 ],
 "metadata": {
  "kernelspec": {
   "display_name": "Python 3",
   "language": "python",
   "name": "python3"
  },
  "language_info": {
   "codemirror_mode": {
    "name": "ipython",
    "version": 3
   },
   "file_extension": ".py",
   "mimetype": "text/x-python",
   "name": "python",
   "nbconvert_exporter": "python",
   "pygments_lexer": "ipython3",
   "version": "3.8.5"
  }
 },
 "nbformat": 4,
 "nbformat_minor": 4
}
